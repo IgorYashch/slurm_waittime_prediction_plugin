{
 "cells": [
  {
   "cell_type": "code",
   "execution_count": 1,
   "id": "dd90db75-744d-41f4-bd0f-08d309afd48d",
   "metadata": {},
   "outputs": [
    {
     "name": "stderr",
     "output_type": "stream",
     "text": [
      "C:\\Users\\User\\anaconda3\\lib\\site-packages\\numpy\\_distributor_init.py:30: UserWarning: loaded more than 1 DLL from .libs:\n",
      "C:\\Users\\User\\anaconda3\\lib\\site-packages\\numpy\\.libs\\libopenblas.GK7GX5KEQ4F6UYO3P26ULGBQYHGQO7J4.gfortran-win_amd64.dll\n",
      "C:\\Users\\User\\anaconda3\\lib\\site-packages\\numpy\\.libs\\libopenblas.PYQHXLVVQ7VESDPUVUADXEVJOBGHJPAY.gfortran-win_amd64.dll\n",
      "  warnings.warn(\"loaded more than 1 DLL from .libs:\"\n"
     ]
    }
   ],
   "source": [
    "import numpy as np\n",
    "import pandas as pd\n",
    "\n",
    "import matplotlib.pyplot as plt\n",
    "from tqdm import tqdm"
   ]
  },
  {
   "cell_type": "code",
   "execution_count": 2,
   "id": "f120009b-d330-4d9a-bb3f-dff7d1df80e7",
   "metadata": {},
   "outputs": [],
   "source": [
    "def read_swf_file(file_path):\n",
    "    col_names = ['job_number', 'submit_time', 'wait_time', 'run_time', 'num_procs',\n",
    "                 'avg_cpu_time', 'used_memory', 'req_procs', 'req_time', 'req_memory',\n",
    "                 'status', 'user_id', 'group_id', 'exec_id', 'queue_id',\n",
    "                 'partition_id', 'orig_site', 'last_run_site']\n",
    "    df = pd.read_csv(file_path, comment=';', header=None, names=col_names, delim_whitespace=True)\n",
    "    return df"
   ]
  },
  {
   "cell_type": "code",
   "execution_count": 101,
   "id": "dd7af81a-95da-40f7-9829-8318f69330bd",
   "metadata": {},
   "outputs": [],
   "source": [
    "df = read_swf_file('SDSC-SP2-1998-4.2-cln.swf')\n",
    "df = df.drop(columns=['used_memory', 'req_memory', 'partition_id', 'orig_site', 'last_run_site'])\n",
    "df = df.drop(columns=['num_procs', 'avg_cpu_time', 'job_number'])"
   ]
  },
  {
   "cell_type": "code",
   "execution_count": 120,
   "id": "f7f9374e-42f8-4852-aa2a-290b75cd5f62",
   "metadata": {},
   "outputs": [],
   "source": [
    "df = df[df.queue_id == 3].drop(columns=['queue_id'])\n",
    "df.index = np.arange(df.shape[0])\n",
    "df.run_time = np.where(df.run_time == -1, 0, df.run_time)\n",
    "df.submit_time = df.submit_time - df.submit_time.min()"
   ]
  },
  {
   "cell_type": "code",
   "execution_count": 121,
   "id": "66de5ec5-483f-4fa9-bb12-ce3134d5c809",
   "metadata": {},
   "outputs": [],
   "source": [
    "user_counts = df.user_id.value_counts()\n",
    "best_users = user_counts[user_counts > 600].index.values\n",
    "user_enc = np.zeros(df.shape[0])\n",
    "for i, us in enumerate(best_users):\n",
    "    user_enc = np.where(df.user_id == us, i + 1, user_enc)"
   ]
  },
  {
   "cell_type": "code",
   "execution_count": 122,
   "id": "a6242e7d-8852-4b53-b523-1831f2729450",
   "metadata": {},
   "outputs": [],
   "source": [
    "group_counts = df.group_id.value_counts()\n",
    "best_groups = group_counts[group_counts > 900].index.values\n",
    "group_enc = np.zeros(df.shape[0])\n",
    "for i, g in enumerate(best_groups):\n",
    "    group_enc = np.where(df.group_id == g, i + 1, group_enc)"
   ]
  },
  {
   "cell_type": "code",
   "execution_count": 123,
   "id": "0a87eb12-9afa-418b-8b07-95f11261ae7d",
   "metadata": {},
   "outputs": [],
   "source": [
    "exec_counts = df.exec_id.value_counts()\n",
    "best_execs = exec_counts[exec_counts > 110].index.values\n",
    "exec_enc = np.zeros(df.shape[0])\n",
    "for i, g in enumerate(best_execs):\n",
    "    exec_enc = np.where(df.exec_id == g, i + 1, exec_enc)"
   ]
  },
  {
   "cell_type": "code",
   "execution_count": 124,
   "id": "f3ed8803-8473-4f36-a364-535c2dbb2cf9",
   "metadata": {},
   "outputs": [],
   "source": [
    "df['date_time'] = pd.to_datetime(df.submit_time + 893466664, unit='s')\n",
    "df['start_time'] = df['submit_time'] + df['wait_time']\n",
    "df['finish_time'] = df['submit_time'] + df['wait_time'] + df['run_time']\n",
    "df['user_enc'] = user_enc.astype(int)\n",
    "df['group_enc'] = group_enc.astype(int)\n",
    "df['exec_enc'] = exec_enc.astype(int)\n",
    "df = df.drop(columns=['user_id', 'group_id', 'exec_id'])\n",
    "\n",
    "df.req_time = np.where(df.req_time < 1, 0, df.req_time)\n",
    "df['extra_time'] = df.req_time - df.run_time"
   ]
  },
  {
   "cell_type": "code",
   "execution_count": 125,
   "id": "b71e71ee-f9d1-43b2-b7c2-939a7cfaf6c1",
   "metadata": {},
   "outputs": [],
   "source": [
    "NUM_USERS = len(set(df.user_enc))\n",
    "NUM_GROUPS = len(set(df.group_enc))\n",
    "NUM_EXECS = len(set(df.exec_enc))\n",
    "user_enc_cols = [f'user_enc_{i}' for i in range(NUM_USERS)]\n",
    "group_enc_cols = [f'group_enc_{i}' for i in range(NUM_GROUPS)]\n",
    "exec_enc_cols = [f'exec_enc_{i}' for i in range(NUM_EXECS)]"
   ]
  },
  {
   "cell_type": "code",
   "execution_count": 126,
   "id": "92d79b0d-3e2a-465e-9526-43b10f62b56c",
   "metadata": {},
   "outputs": [],
   "source": [
    "week_seconds = 3600 * 24 * 7\n",
    "month_seconds = 3600 * 24 * 30"
   ]
  },
  {
   "cell_type": "code",
   "execution_count": 11,
   "id": "87398673-3df3-4cdf-bd9d-b5e267d29ce7",
   "metadata": {},
   "outputs": [],
   "source": [
    "def get_datasets(idx, df):\n",
    "    task = df.loc[idx]\n",
    "\n",
    "    finished_tasks = df[(df.finish_time <= task.submit_time) & (task.submit_time - df.submit_time < week_seconds)]\n",
    "\n",
    "    waiting_tasks = df[(df.start_time > task.submit_time) & (df.submit_time < task.submit_time)].copy()\n",
    "    waiting_tasks = waiting_tasks.drop(columns=['run_time', 'wait_time', 'finish_time', 'start_time', 'extra_time', 'status'])\n",
    "    waiting_tasks['cur_time_wait'] = task.submit_time - df.submit_time\n",
    "\n",
    "    working_tasks = df[(df.start_time < task.submit_time) & (df.finish_time >= task.submit_time)].copy()\n",
    "    working_tasks = working_tasks.drop(columns=['run_time', 'finish_time', 'status', 'extra_time'])\n",
    "    time_working = task.submit_time - working_tasks.start_time\n",
    "    working_tasks['time_left'] = working_tasks.req_time - time_working\n",
    "\n",
    "    task = task.loc[['wait_time', 'req_procs', 'req_time', 'user_enc', 'group_enc', 'exec_enc']]\n",
    "    waiting_features = process_waiting_tasks(waiting_tasks)\n",
    "    working_features = process_working_tasks(working_tasks)\n",
    "    finished_features = process_finished_tasks(finished_tasks)\n",
    "    \n",
    "    task = pd.DataFrame(task).T\n",
    "    task.index = [0]\n",
    "    finished_features = finished_features.rename(lambda s: 'f_' + s, axis='columns')\n",
    "    waiting_features = waiting_features.rename(lambda s: 'wait_' + s, axis='columns')\n",
    "    working_features = working_features.rename(lambda s: 'work_' + s, axis='columns')\n",
    "\n",
    "    return [task, finished_features, waiting_features, working_features]"
   ]
  },
  {
   "cell_type": "code",
   "execution_count": 59,
   "id": "a6ff842c-8266-413d-b73c-a6ed96922d21",
   "metadata": {},
   "outputs": [],
   "source": [
    "def count_base_stats(name, data):\n",
    "    stats = dict()\n",
    "    stats[f'max_{name}'] = data[name].max()\n",
    "    stats[f'min_{name}'] = data[name].min()\n",
    "    stats[f'mean_{name}'] = data[name].mean()\n",
    "    stats[f'median_{name}'] = data[name].median()\n",
    "    stats[f'sum_{name}'] = data[name].sum()\n",
    "    return stats\n",
    "\n",
    "def count_cat_features(name, data):\n",
    "    features = dict()\n",
    "    counts = data[name].value_counts()\n",
    "    for i in counts.index:\n",
    "        features[f'{name}_{i}'] = counts[i]\n",
    "    return features"
   ]
  },
  {
   "cell_type": "code",
   "execution_count": 60,
   "id": "bbfd16da-ab00-4bb2-8079-b2866e88bb1b",
   "metadata": {},
   "outputs": [],
   "source": [
    "def process_waiting_tasks(waiting_tasks):\n",
    "\n",
    "    features = dict.fromkeys(user_enc_cols + group_enc_cols + exec_enc_cols, 0)\n",
    "    features['number'] = waiting_tasks.shape[0]\n",
    "\n",
    "    features.update(count_cat_features('user_enc', waiting_tasks))\n",
    "    features.update(count_cat_features('group_enc', waiting_tasks))\n",
    "    features.update(count_cat_features('exec_enc', waiting_tasks))\n",
    "\n",
    "    features.update(count_base_stats('cur_time_wait', waiting_tasks))\n",
    "    features.update(count_base_stats('req_time', waiting_tasks))\n",
    "    features.update(count_base_stats('req_procs', waiting_tasks))\n",
    "\n",
    "    for k in features:\n",
    "        features[k] = [features[k]]\n",
    "\n",
    "    return pd.DataFrame(features)\n",
    "\n",
    "def process_working_tasks(working_tasks):\n",
    "\n",
    "    features = dict.fromkeys(user_enc_cols + group_enc_cols + exec_enc_cols, 0)\n",
    "    features['number'] = working_tasks.shape[0]\n",
    "\n",
    "    features.update(count_base_stats('time_left', working_tasks))\n",
    "    features.update(count_base_stats('wait_time', working_tasks))\n",
    "    features.update(count_base_stats('req_time', working_tasks))\n",
    "    features.update(count_base_stats('req_procs', working_tasks))\n",
    "\n",
    "    features.update(count_cat_features('user_enc', working_tasks))\n",
    "    features.update(count_cat_features('group_enc', working_tasks))\n",
    "    features.update(count_cat_features('exec_enc', working_tasks))\n",
    "        \n",
    "    for k in features:\n",
    "        features[k] = [features[k]]\n",
    "\n",
    "    return pd.DataFrame(features)\n",
    "\n",
    "def process_finished_tasks(finished_tasks):\n",
    "\n",
    "    features = dict()\n",
    "    features['number'] = finished_tasks.shape[0]\n",
    "    features[f'mean_wait_time'] = finished_tasks['wait_time'].mean()\n",
    "    features[f'median_wait_time'] = finished_tasks['wait_time'].median()\n",
    "        \n",
    "    for k in features:\n",
    "        features[k] = [features[k]]\n",
    "\n",
    "    return pd.DataFrame(features)"
   ]
  },
  {
   "cell_type": "code",
   "execution_count": 97,
   "id": "5e857521-d7bc-42d3-a3bd-1ff58b7b16a4",
   "metadata": {},
   "outputs": [],
   "source": [
    "def create_all_features(idx, df=df):\n",
    "    datasets = get_datasets(idx, df)\n",
    "    all_columns = [c for d in datasets for c in d.columns]\n",
    "    all_features = pd.concat(datasets, axis=1, ignore_index=True)\n",
    "    all_features.columns = all_columns\n",
    "    return all_features"
   ]
  },
  {
   "cell_type": "code",
   "execution_count": 88,
   "id": "cf9a3b41-ff53-41a0-93d4-ccc1724d0603",
   "metadata": {},
   "outputs": [],
   "source": [
    "thresold = 1830008"
   ]
  },
  {
   "cell_type": "code",
   "execution_count": 62,
   "id": "0aaf97f7-06bc-43b8-9a48-ce1cd1f6c2f4",
   "metadata": {},
   "outputs": [
    {
     "name": "stderr",
     "output_type": "stream",
     "text": [
      "100%|██████████| 30118/30118 [06:51<00:00, 73.26it/s]\n"
     ]
    }
   ],
   "source": [
    "features = []\n",
    "for i in tqdm(df[23:].index):\n",
    "    features.append(create_all_features(i))\n",
    "features = pd.concat(features)\n",
    "features.index = df[23:].index"
   ]
  },
  {
   "cell_type": "code",
   "execution_count": 64,
   "id": "facad297-66ec-465b-abcb-cf95d57377cc",
   "metadata": {},
   "outputs": [],
   "source": [
    "features.to_pickle('features.pkl')"
   ]
  },
  {
   "cell_type": "code",
   "execution_count": 96,
   "id": "77323383-ab57-4d9f-8f2b-4ee389a4abf4",
   "metadata": {},
   "outputs": [],
   "source": [
    "mask = df.wait_time < thresold"
   ]
  },
  {
   "cell_type": "code",
   "execution_count": 98,
   "id": "6155b955-ffd2-4b18-81de-41aad7103b69",
   "metadata": {},
   "outputs": [
    {
     "name": "stderr",
     "output_type": "stream",
     "text": [
      "100%|██████████| 30061/30061 [14:48<00:00, 33.83it/s]\n"
     ]
    }
   ],
   "source": [
    "features_2 = []\n",
    "for i in tqdm(df[mask][50:].index):\n",
    "    features_2.append(create_all_features(i, df[mask]))\n",
    "features_2 = pd.concat(features_2)\n",
    "features_2.index = df[mask][50:].index\n",
    "features_2.to_pickle('features_2.pkl')"
   ]
  },
  {
   "cell_type": "code",
   "execution_count": 99,
   "id": "c337c7de-d351-403b-ab29-c979300fbe1c",
   "metadata": {},
   "outputs": [],
   "source": [
    "# plt.figure(figsize=(20, 5))\n",
    "# num = 1000\n",
    "# plt.bar(np.arange(num), sorted(df.wait_time)[-num:])\n",
    "# plt.xlim([-0.5, num - 0.5])"
   ]
  },
  {
   "cell_type": "code",
   "execution_count": null,
   "id": "858f60f3-6791-40b3-b960-0a015709a2aa",
   "metadata": {},
   "outputs": [],
   "source": []
  }
 ],
 "metadata": {
  "kernelspec": {
   "display_name": "Python 3 (ipykernel)",
   "language": "python",
   "name": "python3"
  },
  "language_info": {
   "codemirror_mode": {
    "name": "ipython",
    "version": 3
   },
   "file_extension": ".py",
   "mimetype": "text/x-python",
   "name": "python",
   "nbconvert_exporter": "python",
   "pygments_lexer": "ipython3",
   "version": "3.8.8"
  }
 },
 "nbformat": 4,
 "nbformat_minor": 5
}
