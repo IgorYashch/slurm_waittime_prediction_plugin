{
 "cells": [
  {
   "attachments": {},
   "cell_type": "markdown",
   "metadata": {},
   "source": [
    "https://www.cs.huji.ac.il/labs/parallel/workload/l_unilu_gaia/index.html\n"
   ]
  },
  {
   "cell_type": "code",
   "execution_count": 6,
   "metadata": {},
   "outputs": [],
   "source": [
    "import pandas as pd\n",
    "import numpy as np\n",
    "import matplotlib.pyplot as plt\n",
    "import seaborn as sns"
   ]
  },
  {
   "attachments": {},
   "cell_type": "markdown",
   "metadata": {},
   "source": [
    "# Считываем файл"
   ]
  },
  {
   "cell_type": "code",
   "execution_count": null,
   "metadata": {},
   "outputs": [],
   "source": [
    "!wget http://www.cs.huji.ac.il/labs/parallel/workload/l_unilu_gaia/UniLu-Gaia-2014-2.swf.gz"
   ]
  },
  {
   "cell_type": "code",
   "execution_count": 7,
   "metadata": {},
   "outputs": [],
   "source": [
    "def read_swf_file(file_path):\n",
    "    col_names = ['job_number', 'submit_time', 'wait_time', 'run_time', 'num_procs',\n",
    "                 'avg_cpu_time', 'used_memory', 'req_procs', 'req_time', 'req_memory',\n",
    "                 'status', 'user_id', 'group_id', 'exec_id', 'queue_id',\n",
    "                 'partition_id', 'orig_site', 'last_run_site']\n",
    "    df = pd.read_csv(file_path, comment=';', header=None, names=col_names, delim_whitespace=True)\n",
    "    return df"
   ]
  },
  {
   "cell_type": "code",
   "execution_count": 8,
   "metadata": {},
   "outputs": [],
   "source": [
    "data = read_swf_file('./raw_data/UniLu-Gaia-2014-2.swf')"
   ]
  },
  {
   "cell_type": "code",
   "execution_count": 9,
   "metadata": {},
   "outputs": [],
   "source": [
    "data = data.replace(-1, np.nan)"
   ]
  },
  {
   "cell_type": "code",
   "execution_count": 10,
   "metadata": {},
   "outputs": [
    {
     "name": "stdout",
     "output_type": "stream",
     "text": [
      "<class 'pandas.core.frame.DataFrame'>\n",
      "RangeIndex: 51987 entries, 0 to 51986\n",
      "Data columns (total 18 columns):\n",
      " #   Column         Non-Null Count  Dtype  \n",
      "---  ------         --------------  -----  \n",
      " 0   job_number     51987 non-null  int64  \n",
      " 1   submit_time    51987 non-null  int64  \n",
      " 2   wait_time      51987 non-null  int64  \n",
      " 3   run_time       51959 non-null  float64\n",
      " 4   num_procs      51987 non-null  int64  \n",
      " 5   avg_cpu_time   49079 non-null  float64\n",
      " 6   used_memory    50523 non-null  float64\n",
      " 7   req_procs      51987 non-null  int64  \n",
      " 8   req_time       51987 non-null  int64  \n",
      " 9   req_memory     0 non-null      float64\n",
      " 10  status         51987 non-null  int64  \n",
      " 11  user_id        51987 non-null  int64  \n",
      " 12  group_id       51987 non-null  int64  \n",
      " 13  exec_id        51987 non-null  int64  \n",
      " 14  queue_id       51987 non-null  int64  \n",
      " 15  partition_id   0 non-null      float64\n",
      " 16  orig_site      0 non-null      float64\n",
      " 17  last_run_site  0 non-null      float64\n",
      "dtypes: float64(7), int64(11)\n",
      "memory usage: 7.1 MB\n"
     ]
    }
   ],
   "source": [
    "data.info()"
   ]
  },
  {
   "cell_type": "code",
   "execution_count": null,
   "metadata": {},
   "outputs": [],
   "source": []
  },
  {
   "cell_type": "code",
   "execution_count": 5,
   "metadata": {},
   "outputs": [
    {
     "data": {
      "text/html": [
       "<div>\n",
       "<style scoped>\n",
       "    .dataframe tbody tr th:only-of-type {\n",
       "        vertical-align: middle;\n",
       "    }\n",
       "\n",
       "    .dataframe tbody tr th {\n",
       "        vertical-align: top;\n",
       "    }\n",
       "\n",
       "    .dataframe thead th {\n",
       "        text-align: right;\n",
       "    }\n",
       "</style>\n",
       "<table border=\"1\" class=\"dataframe\">\n",
       "  <thead>\n",
       "    <tr style=\"text-align: right;\">\n",
       "      <th></th>\n",
       "      <th>job_number</th>\n",
       "      <th>submit_time</th>\n",
       "      <th>wait_time</th>\n",
       "      <th>run_time</th>\n",
       "      <th>num_procs</th>\n",
       "      <th>avg_cpu_time</th>\n",
       "      <th>used_memory</th>\n",
       "      <th>req_procs</th>\n",
       "      <th>req_time</th>\n",
       "      <th>req_memory</th>\n",
       "      <th>status</th>\n",
       "      <th>user_id</th>\n",
       "      <th>group_id</th>\n",
       "      <th>exec_id</th>\n",
       "      <th>queue_id</th>\n",
       "      <th>partition_id</th>\n",
       "      <th>orig_site</th>\n",
       "      <th>last_run_site</th>\n",
       "    </tr>\n",
       "    <tr>\n",
       "      <th>queue_id</th>\n",
       "      <th></th>\n",
       "      <th></th>\n",
       "      <th></th>\n",
       "      <th></th>\n",
       "      <th></th>\n",
       "      <th></th>\n",
       "      <th></th>\n",
       "      <th></th>\n",
       "      <th></th>\n",
       "      <th></th>\n",
       "      <th></th>\n",
       "      <th></th>\n",
       "      <th></th>\n",
       "      <th></th>\n",
       "      <th></th>\n",
       "      <th></th>\n",
       "      <th></th>\n",
       "      <th></th>\n",
       "    </tr>\n",
       "  </thead>\n",
       "  <tbody>\n",
       "    <tr>\n",
       "      <th>0</th>\n",
       "      <td>0</td>\n",
       "      <td>0</td>\n",
       "      <td>0</td>\n",
       "      <td>0</td>\n",
       "      <td>0</td>\n",
       "      <td>235</td>\n",
       "      <td>60</td>\n",
       "      <td>0</td>\n",
       "      <td>0</td>\n",
       "      <td>1850</td>\n",
       "      <td>0</td>\n",
       "      <td>0</td>\n",
       "      <td>0</td>\n",
       "      <td>0</td>\n",
       "      <td>0</td>\n",
       "      <td>1850</td>\n",
       "      <td>1850</td>\n",
       "      <td>1850</td>\n",
       "    </tr>\n",
       "    <tr>\n",
       "      <th>1</th>\n",
       "      <td>0</td>\n",
       "      <td>0</td>\n",
       "      <td>0</td>\n",
       "      <td>17</td>\n",
       "      <td>0</td>\n",
       "      <td>2472</td>\n",
       "      <td>1248</td>\n",
       "      <td>0</td>\n",
       "      <td>0</td>\n",
       "      <td>35222</td>\n",
       "      <td>0</td>\n",
       "      <td>0</td>\n",
       "      <td>0</td>\n",
       "      <td>0</td>\n",
       "      <td>0</td>\n",
       "      <td>35222</td>\n",
       "      <td>35222</td>\n",
       "      <td>35222</td>\n",
       "    </tr>\n",
       "    <tr>\n",
       "      <th>2</th>\n",
       "      <td>0</td>\n",
       "      <td>0</td>\n",
       "      <td>0</td>\n",
       "      <td>11</td>\n",
       "      <td>0</td>\n",
       "      <td>201</td>\n",
       "      <td>156</td>\n",
       "      <td>0</td>\n",
       "      <td>0</td>\n",
       "      <td>14915</td>\n",
       "      <td>0</td>\n",
       "      <td>0</td>\n",
       "      <td>0</td>\n",
       "      <td>0</td>\n",
       "      <td>0</td>\n",
       "      <td>14915</td>\n",
       "      <td>14915</td>\n",
       "      <td>14915</td>\n",
       "    </tr>\n",
       "  </tbody>\n",
       "</table>\n",
       "</div>"
      ],
      "text/plain": [
       "          job_number  submit_time  wait_time  run_time  num_procs  \\\n",
       "queue_id                                                            \n",
       "0                  0            0          0         0          0   \n",
       "1                  0            0          0        17          0   \n",
       "2                  0            0          0        11          0   \n",
       "\n",
       "          avg_cpu_time  used_memory  req_procs  req_time  req_memory  status  \\\n",
       "queue_id                                                                       \n",
       "0                  235           60          0         0        1850       0   \n",
       "1                 2472         1248          0         0       35222       0   \n",
       "2                  201          156          0         0       14915       0   \n",
       "\n",
       "          user_id  group_id  exec_id  queue_id  partition_id  orig_site  \\\n",
       "queue_id                                                                  \n",
       "0               0         0        0         0          1850       1850   \n",
       "1               0         0        0         0         35222      35222   \n",
       "2               0         0        0         0         14915      14915   \n",
       "\n",
       "          last_run_site  \n",
       "queue_id                 \n",
       "0                  1850  \n",
       "1                 35222  \n",
       "2                 14915  "
      ]
     },
     "execution_count": 5,
     "metadata": {},
     "output_type": "execute_result"
    }
   ],
   "source": [
    "data.isnull().groupby(data['queue_id']).sum()"
   ]
  },
  {
   "cell_type": "code",
   "execution_count": 1,
   "metadata": {},
   "outputs": [
    {
     "ename": "NameError",
     "evalue": "name 'data' is not defined",
     "output_type": "error",
     "traceback": [
      "\u001b[0;31m---------------------------------------------------------------------------\u001b[0m",
      "\u001b[0;31mNameError\u001b[0m                                 Traceback (most recent call last)",
      "Cell \u001b[0;32mIn[1], line 1\u001b[0m\n\u001b[0;32m----> 1\u001b[0m data \u001b[39m=\u001b[39m [data[\u001b[39m'\u001b[39m\u001b[39mqueued_id\u001b[39m\u001b[39m'\u001b[39m] \u001b[39m==\u001b[39m \u001b[39m1\u001b[39m]\n",
      "\u001b[0;31mNameError\u001b[0m: name 'data' is not defined"
     ]
    }
   ],
   "source": [
    "# Берем одну самую большую очередь\n",
    "data = [data['queued_id'] == 1]\n",
    "\n",
    "\n",
    "data.drop(columns=['partition_id', 'orig_site', 'last_run_site', 'group_id'])"
   ]
  },
  {
   "cell_type": "code",
   "execution_count": null,
   "metadata": {},
   "outputs": [
    {
     "data": {
      "text/plain": [
       "<Axes: xlabel='job_number', ylabel='submit_time'>"
      ]
     },
     "execution_count": 7,
     "metadata": {},
     "output_type": "execute_result"
    },
    {
     "data": {
      "image/png": "[encoded data removed]",
      "text/plain": [
       "<Figure size 640x480 with 1 Axes>"
      ]
     },
     "metadata": {},
     "output_type": "display_data"
    }
   ],
   "source": [
    "sns.scatterplot(data=data, x='job_number', y='submit_time')"
   ]
  },
  {
   "cell_type": "code",
   "execution_count": null,
   "metadata": {},
   "outputs": [],
   "source": []
  }
 ],
 "metadata": {
  "kernelspec": {
   "display_name": "torch",
   "language": "python",
   "name": "python3"
  },
  "language_info": {
   "codemirror_mode": {
    "name": "ipython",
    "version": 3
   },
   "file_extension": ".py",
   "mimetype": "text/x-python",
   "name": "python",
   "nbconvert_exporter": "python",
   "pygments_lexer": "ipython3",
   "version": "3.10.10"
  },
  "orig_nbformat": 4
 },
 "nbformat": 4,
 "nbformat_minor": 2
}
